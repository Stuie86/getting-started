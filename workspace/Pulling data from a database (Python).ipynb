{
 "cells": [
  {
   "cell_type": "markdown",
   "id": "87e4b07e-c5f0-4d19-9510-1a1ed610fa76",
   "metadata": {},
   "source": [
    "## Pull data from a database\n",
    "\n",
    "This notebook will instruct you how to load data from your database.\n",
    "\n",
    "First install your packages by running the block below. Once this has been done restart your kenrnal but clicking the 'Kernal' tab at the top then 'Restart and Clear All Outputs'"
   ]
  },
  {
   "cell_type": "code",
   "execution_count": null,
   "id": "cf96f439-bdd0-4c94-99b9-e88b067cc4d3",
   "metadata": {},
   "outputs": [],
   "source": [
    "!pip install snowflake-connector-python==2.7.9\n",
    "!pip install snowflake-connector-python[pandas]\n",
    "!pip install python-dotenv "
   ]
  },
  {
   "cell_type": "code",
   "execution_count": 2,
   "id": "1bb32cf3-c239-40b4-8901-0d9cf82dd2fc",
   "metadata": {},
   "outputs": [
    {
     "data": {
      "text/plain": [
       "True"
      ]
     },
     "execution_count": 2,
     "metadata": {},
     "output_type": "execute_result"
    }
   ],
   "source": [
    "# Load in the packages needed\n",
    "from dotenv import load_dotenv\n",
    "import os\n",
    "import pandas as pd\n",
    "from snowflake.connector.pandas_tools import write_pandas\n",
    "import snowflake.connector\n",
    "\n",
    "load_dotenv()"
   ]
  },
  {
   "cell_type": "markdown",
   "id": "d99aba8d-8c8c-416b-82c6-7deed73b3ee8",
   "metadata": {},
   "source": [
    "This function creates a connection string that will give you the ability to connect to Snowflake"
   ]
  },
  {
   "cell_type": "code",
   "execution_count": null,
   "id": "9b0bfb69-7ce3-4601-b504-9e1ade9907e7",
   "metadata": {},
   "outputs": [],
   "source": [
    "def connect_to_db():\n",
    "    conn = snowflake.connector.connect(\n",
    "        user=os.environ['SNOWFLAKE_USERNAME'],\n",
    "        password=os.environ['SNOWFLAKE_PASSWORD'],\n",
    "        account=os.environ['SNOWFLAKE_ACCOUNT'],\n",
    "        warehouse=os.environ['SNOWFLAKE_WAREHOUSE'],\n",
    "        database=os.environ['SNOWFLAKE_DATABASE'],\n",
    "        schema=os.environ['SNOWFLAKE_SCHEMA'])\n",
    "    return conn\n",
    "\n",
    "def read_from_db(connection_str, query):\n",
    "    # This function uses the connection string to pull data from Snowflake into a Pandas dataframe\n",
    "    cur = connection_str.cursor()\n",
    "    cur.execute(query)\n",
    "    df = cur.fetch_pandas_all()\n",
    "    return df\n",
    "\n",
    "sql_engine = connect_to_db()"
   ]
  },
  {
   "cell_type": "markdown",
   "id": "47ee34ac-9d06-4a36-9827-93b85e154b41",
   "metadata": {},
   "source": [
    "Then create your query to pull data from Snowflake"
   ]
  },
  {
   "cell_type": "code",
   "execution_count": null,
   "id": "35084aaf-0b71-453a-aa15-12dc39761640",
   "metadata": {},
   "outputs": [],
   "source": [
    "query = \"\"\"\n",
    "select * from STAGE.HOUSE_PRICES\n",
    "\"\"\""
   ]
  },
  {
   "cell_type": "markdown",
   "id": "b05dcbea-89d8-415e-81fa-4644de5f21a5",
   "metadata": {},
   "source": [
    "Finally use the `read_from_db()` function to pull data from Snowflake"
   ]
  },
  {
   "cell_type": "code",
   "execution_count": null,
   "id": "70e709be-49f0-4ae5-b9b4-32d36f39ade6",
   "metadata": {},
   "outputs": [],
   "source": [
    "df = read_from_db(sql_engine, query)"
   ]
  }
 ],
 "metadata": {
  "kernelspec": {
   "display_name": "Python 3 (ipykernel)",
   "language": "python",
   "name": "python3"
  },
  "language_info": {
   "codemirror_mode": {
    "name": "ipython",
    "version": 3
   },
   "file_extension": ".py",
   "mimetype": "text/x-python",
   "name": "python",
   "nbconvert_exporter": "python",
   "pygments_lexer": "ipython3",
   "version": "3.8.13"
  }
 },
 "nbformat": 4,
 "nbformat_minor": 5
}
